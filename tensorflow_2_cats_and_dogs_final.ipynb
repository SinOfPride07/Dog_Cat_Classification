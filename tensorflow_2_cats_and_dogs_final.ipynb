{
 "cells": [
  {
   "cell_type": "markdown",
   "metadata": {},
   "source": [
    "## This project uses Convolutional Neural Network to classify 25000 images into two categories Dog or Cat."
   ]
  },
  {
   "cell_type": "markdown",
   "metadata": {},
   "source": [
    "### Importing the necessary libraries"
   ]
  },
  {
   "cell_type": "code",
   "execution_count": null,
   "metadata": {},
   "outputs": [],
   "source": [
    "import tensorflow as tf\n",
    "import numpy as np\n",
    "import cv2\n",
    "import matplotlib.pyplot as plt\n",
    "import os\n",
    "import random\n",
    "from sklearn.model_selection import train_test_split\n",
    "import datetime\n",
    "from tqdm import tqdm"
   ]
  },
  {
   "cell_type": "markdown",
   "metadata": {},
   "source": [
    "### Checking the work of Tensorflow GPU"
   ]
  },
  {
   "cell_type": "code",
   "execution_count": null,
   "metadata": {},
   "outputs": [],
   "source": [
    "from tensorflow.python.client import device_lib\n",
    "print(device_lib.list_local_devices())a"
   ]
  },
  {
   "cell_type": "markdown",
   "metadata": {},
   "source": [
    "# Pre-Processing"
   ]
  },
  {
   "cell_type": "code",
   "execution_count": null,
   "metadata": {},
   "outputs": [],
   "source": [
    "DIR = (\"B:\\D2\\PetImages\")\n",
    "training_data = []\n",
    "CATEGORY = [\"Cat\", \"Dog\"]\n",
    "IMG_SIZE = 100\n",
    "\n",
    "for category in CATEGORY:\n",
    "    path = os.path.join(DIR, category)\n",
    "    label = CATEGORY.index(category)\n",
    "    for img in tqdm(os.listdir(path)):\n",
    "        try:\n",
    "            img_array = cv2.imread(os.path.join(path,img), 0)\n",
    "            new_array = cv2.resize(img_array, (IMG_SIZE, IMG_SIZE))\n",
    "            training_data.append([new_array, label])\n",
    "        except Exception as e:\n",
    "            pass"
   ]
  },
  {
   "cell_type": "code",
   "execution_count": null,
   "metadata": {},
   "outputs": [],
   "source": [
    "np.random.shuffle(training_data)"
   ]
  },
  {
   "cell_type": "code",
   "execution_count": null,
   "metadata": {},
   "outputs": [],
   "source": [
    "inputs = []\n",
    "targets = []"
   ]
  },
  {
   "cell_type": "code",
   "execution_count": null,
   "metadata": {},
   "outputs": [],
   "source": [
    "for input, target in training_data:\n",
    "    inputs.append(input)\n",
    "    targets.append(target)"
   ]
  },
  {
   "cell_type": "code",
   "execution_count": null,
   "metadata": {},
   "outputs": [],
   "source": [
    "type(inputs)\n"
   ]
  },
  {
   "cell_type": "code",
   "execution_count": null,
   "metadata": {},
   "outputs": [],
   "source": [
    "inputs = np.array(inputs).reshape(-1, IMG_SIZE, IMG_SIZE, 1)"
   ]
  },
  {
   "cell_type": "code",
   "execution_count": null,
   "metadata": {},
   "outputs": [],
   "source": [
    "X_train, X_test, Y_train, Y_test = train_test_split(inputs, targets, test_size=0.1, random_state=1)"
   ]
  },
  {
   "cell_type": "code",
   "execution_count": null,
   "metadata": {},
   "outputs": [],
   "source": [
    "train_inputs, validation_inputs, train_outputs, validation_outputs = train_test_split(X_train,Y_train, test_size=0.1, random_state=42)"
   ]
  },
  {
   "cell_type": "code",
   "execution_count": null,
   "metadata": {},
   "outputs": [],
   "source": [
    "np.savez('B:\\D2\\PetImages\\cats_and_dogs_train.npz', inputs = train_inputs, targets = train_outputs)\n",
    "np.savez('B:\\D2\\PetImages\\cats_and_dogs_validation.npz', inputs = validation_inputs, targets = validation_outputs)\n",
    "np.savez('B:\\D2\\PetImages\\cats_and_dogs_test.npz', inputs =  X_test, targets = Y_test)"
   ]
  },
  {
   "cell_type": "markdown",
   "metadata": {},
   "source": [
    "# MODEL"
   ]
  },
  {
   "cell_type": "code",
   "execution_count": null,
   "metadata": {},
   "outputs": [],
   "source": [
    "import tensorflow as tf\n",
    "import numpy as np\n",
    "from tensorflow.python.client import device_lib\n",
    "print(device_lib.list_local_devices())"
   ]
  },
  {
   "cell_type": "code",
   "execution_count": null,
   "metadata": {},
   "outputs": [],
   "source": [
    "train_data = np.load('B:\\D2\\PetImages\\cats_and_dogs_train.npz')\n",
    "validation_data = np.load('B:\\D2\\PetImages\\cats_and_dogs_validation.npz')\n"
   ]
  },
  {
   "cell_type": "code",
   "execution_count": null,
   "metadata": {},
   "outputs": [],
   "source": [
    "train_inputs, train_targets = train_data['inputs'].astype(np.float), train_data['targets'].astype(np.int)\n",
    "validation_inputs, validation_targets = validation_data['inputs'].astype(np.float), validation_data['targets'].astype(np.int)"
   ]
  },
  {
   "cell_type": "code",
   "execution_count": null,
   "metadata": {},
   "outputs": [],
   "source": [
    "\n",
    "train_inputs_fit = train_inputs / 255.\n",
    "validation_inputs = validation_inputs / 255."
   ]
  },
  {
   "cell_type": "code",
   "execution_count": null,
   "metadata": {},
   "outputs": [],
   "source": [
    "inputs_size = 100*100\n",
    "outputs_size = 1\n",
    "hidden_layer_size = 512\n",
    "\n",
    "model = tf.keras.Sequential([\n",
    "                            tf.keras.layers.Conv2D(64, kernel_size = (3,3), activation = 'relu'),\n",
    "                            tf.keras.layers.MaxPool2D(pool_size = (2,2)),\n",
    "\n",
    "                            tf.keras.layers.Conv2D(128, kernel_size = (3,3), activation = 'relu'),\n",
    "                            tf.keras.layers.MaxPool2D(pool_size = (2,2)),\n",
    "    \n",
    "    \n",
    "                            tf.keras.layers.Conv2D(256, kernel_size = (3,3), activation = 'relu'),\n",
    "                            tf.keras.layers.MaxPool2D(pool_size = (2,2)),\n",
    "    \n",
    "                            tf.keras.layers.Flatten(),\n",
    "                            tf.keras.layers.Dense(hidden_layer_size, activation='relu'),\n",
    "                            tf.keras.layers.Dense(outputs_size, activation='sigmoid')\n",
    "                            ])\n",
    "\n",
    "BATCH_SIZE = 50\n",
    "MAX_EPOCHS = 20\n",
    "EARLY_STOPPING = tf.keras.callbacks.EarlyStopping(patience = 3)\n",
    "model.compile(optimizer = 'adam', loss = 'binary_crossentropy', metrics = ['accuracy'])"
   ]
  },
  {
   "cell_type": "markdown",
   "metadata": {},
   "source": [
    "### TRAINING"
   ]
  },
  {
   "cell_type": "code",
   "execution_count": null,
   "metadata": {},
   "outputs": [],
   "source": [
    "model.fit(train_inputs_fit, train_targets, validation_data = (validation_inputs, validation_targets), epochs = MAX_EPOCHS, batch_size = BATCH_SIZE, callbacks=[EARLY_STOPPING])"
   ]
  },
  {
   "cell_type": "markdown",
   "metadata": {},
   "source": [
    "### TESTING"
   ]
  },
  {
   "cell_type": "code",
   "execution_count": null,
   "metadata": {},
   "outputs": [],
   "source": [
    "test_data = np.load('B:\\D2\\PetImages\\cats_and_dogs_test.npz')\n",
    "test_inputs, test_targets = test_data['inputs'].astype(np.float), test_data['targets'].astype(np.int)"
   ]
  },
  {
   "cell_type": "code",
   "execution_count": null,
   "metadata": {},
   "outputs": [],
   "source": [
    "predictions = model.predict(test_inputs_final)test_loss, test_accuracy = model.evaluate(test_inputs_final, test_targets)\n",
    "predictions = model.predict(test_inputs_final)"
   ]
  },
  {
   "cell_type": "markdown",
   "metadata": {},
   "source": [
    "### SAVING THE CNN MODEL"
   ]
  },
  {
   "cell_type": "code",
   "execution_count": null,
   "metadata": {},
   "outputs": [],
   "source": [
    "model.save('B:\\D2\\PetImages\\cats_dogs.h5')"
   ]
  }
 ],
 "metadata": {
  "kernelspec": {
   "display_name": "Python 3",
   "language": "python",
   "name": "python3"
  },
  "language_info": {
   "codemirror_mode": {
    "name": "ipython",
    "version": 3
   },
   "file_extension": ".py",
   "mimetype": "text/x-python",
   "name": "python",
   "nbconvert_exporter": "python",
   "pygments_lexer": "ipython3",
   "version": "3.7.7"
  }
 },
 "nbformat": 4,
 "nbformat_minor": 4
}
